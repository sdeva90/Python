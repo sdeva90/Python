{
  "cells": [
    {
      "cell_type": "markdown",
      "metadata": {
        "id": "view-in-github",
        "colab_type": "text"
      },
      "source": [
        "<a href=\"https://colab.research.google.com/github/sdeva90/Python/blob/master/Colab/Practice%2BExercise%2B_%2BFunctions_1.ipynb\" target=\"_parent\"><img src=\"https://colab.research.google.com/assets/colab-badge.svg\" alt=\"Open In Colab\"/></a>"
      ]
    },
    {
      "cell_type": "markdown",
      "metadata": {
        "id": "1RSoV3XLJEg2"
      },
      "source": [
        "# **USER DEFINED FUNCTION AND LAMBDA FUNCTIONS EXERCISE**"
      ]
    },
    {
      "cell_type": "markdown",
      "metadata": {
        "id": "jrqSJVR9JEg3"
      },
      "source": [
        "### 1. Write a function to add, subtract, multiply and divide two variables passed to it and print the result"
      ]
    },
    {
      "cell_type": "code",
      "execution_count": null,
      "metadata": {
        "colab": {
          "base_uri": "https://localhost:8080/"
        },
        "id": "9Gb8wUu2JEg4",
        "outputId": "14a57f64-e9f6-45f2-bbec-0573d1b2c90f"
      },
      "outputs": [
        {
          "output_type": "stream",
          "name": "stdout",
          "text": [
            "Enter the value a:78\n",
            "Enter the value b:45\n",
            "123 3510 33\n"
          ]
        }
      ],
      "source": [
        "\n",
        "while True:\n",
        "    a = input(\"Enter the value a:\")\n",
        "    b = input(\"Enter the value b:\")\n",
        "    try:\n",
        "        a = int(a)\n",
        "        b = int(b)\n",
        "        break\n",
        "    except ValueError:\n",
        "        print(\"Invalid input. Please enter a valid integer.\")\n",
        "\n",
        "print(a+b, a*b, a-b)"
      ]
    },
    {
      "cell_type": "markdown",
      "metadata": {
        "id": "HOdZd9NYJEg4"
      },
      "source": [
        "### 2. Write a Python function given range (1,10) both included, that gives the square of every number"
      ]
    },
    {
      "cell_type": "code",
      "execution_count": null,
      "metadata": {
        "colab": {
          "base_uri": "https://localhost:8080/"
        },
        "id": "Sp-5T9w_JEg5",
        "outputId": "28854d21-4d81-4795-b565-2825dcbab2de"
      },
      "outputs": [
        {
          "output_type": "stream",
          "name": "stdout",
          "text": [
            "1\n",
            "4\n",
            "9\n",
            "16\n",
            "25\n",
            "36\n",
            "49\n",
            "64\n",
            "81\n",
            "100\n"
          ]
        }
      ],
      "source": [
        "for i in range(1,11):\n",
        "  print(i**2)"
      ]
    },
    {
      "cell_type": "markdown",
      "metadata": {
        "id": "fbDbMPraJEg5"
      },
      "source": [
        "### 3. Write a function to calculate simple interest\n",
        "\n",
        "simple interest = (Principal amount * Annual Rate of interest * Time(in years))/100\n",
        "\n",
        "Take values as follows\n",
        "\n",
        "Principal Amount = 1000\n",
        "\n",
        "Rate of interest = 3%\n",
        "\n",
        "Time = 5 years"
      ]
    },
    {
      "cell_type": "code",
      "execution_count": null,
      "metadata": {
        "colab": {
          "base_uri": "https://localhost:8080/"
        },
        "id": "DvrnnbTEJEg6",
        "outputId": "8c198d95-c968-4725-a56a-8c27ef2889a6"
      },
      "outputs": [
        {
          "output_type": "stream",
          "name": "stdout",
          "text": [
            "Simple interest: 150.0\n"
          ]
        }
      ],
      "source": [
        "# prompt:\n",
        "\n",
        "def calculate_simple_interest(principal_amount, rate_of_interest, time):\n",
        "  \"\"\"\n",
        "  Calculates the simple interest for the given parameters.\n",
        "\n",
        "  Args:\n",
        "    principal_amount: The principal amount (float).\n",
        "    rate_of_interest: The annual rate of interest (float).\n",
        "    time: The time in years (float).\n",
        "\n",
        "  Returns:\n",
        "    The simple interest (float).\n",
        "  \"\"\"\n",
        "\n",
        "  simple_interest = (principal_amount * rate_of_interest * time) / 100\n",
        "  return simple_interest\n",
        "\n",
        "principal_amount = 1000\n",
        "rate_of_interest = 3\n",
        "time = 5\n",
        "\n",
        "print(\"Simple interest:\", simple_interest)\n"
      ]
    },
    {
      "cell_type": "markdown",
      "metadata": {
        "id": "Gd86FkNHJEg7"
      },
      "source": [
        "### 4. Write a function to check the number is divisible by 25. The function should return True if divisible and \"Not divisible\" if not"
      ]
    },
    {
      "cell_type": "code",
      "execution_count": null,
      "metadata": {
        "colab": {
          "base_uri": "https://localhost:8080/",
          "height": 109
        },
        "id": "9M5Lp9LpJEg7",
        "outputId": "3fd6eadf-6202-45c9-a217-d866a7737442"
      },
      "outputs": [
        {
          "output_type": "error",
          "ename": "SyntaxError",
          "evalue": "invalid decimal literal (<ipython-input-2-fd94f53e180e>, line 17)",
          "traceback": [
            "\u001b[0;36m  File \u001b[0;32m\"<ipython-input-2-fd94f53e180e>\"\u001b[0;36m, line \u001b[0;32m17\u001b[0m\n\u001b[0;31m    print(is_divisible_by_25(1yu0))  # True\u001b[0m\n\u001b[0m                             ^\u001b[0m\n\u001b[0;31mSyntaxError\u001b[0m\u001b[0;31m:\u001b[0m invalid decimal literal\n"
          ]
        }
      ],
      "source": [
        "# prompt:\n",
        "\n",
        "def is_divisible_by_25(number):\n",
        "  \"\"\"\n",
        "  Checks if the given number is divisible by 25.\n",
        "\n",
        "  Args:\n",
        "    number: The number to check (int).\n",
        "\n",
        "  Returns:\n",
        "    True if the number is divisible by 25, False otherwise.\n",
        "  \"\"\"\n",
        "\n",
        "  return number % 25 == 0\n",
        "\n",
        "# Test the function\n",
        "print(is_divisible_by_25(1yu0))  # True\n",
        "print(is_divisible_by_25(75))   # True\n",
        "print(is_divisible_by_25(50))   # True\n",
        "print(is_divisible_by_25(24))   # False\n",
        "print(is_divisible_by_25(125))  # True\n"
      ]
    },
    {
      "cell_type": "markdown",
      "metadata": {
        "id": "y2DKxC31JEg7"
      },
      "source": [
        "### 5. Define a function that takes an input, squares it, adds 5, then returns the answer"
      ]
    },
    {
      "cell_type": "code",
      "execution_count": null,
      "metadata": {
        "colab": {
          "base_uri": "https://localhost:8080/"
        },
        "id": "AttC_umMJEg7",
        "outputId": "4727acb4-b61a-46f7-cd1a-b48a95f55d3b"
      },
      "outputs": [
        {
          "output_type": "stream",
          "name": "stdout",
          "text": [
            "30\n"
          ]
        }
      ],
      "source": [
        "\n",
        "\n",
        "    def abc(x):\n",
        "      return(x**2+5)\n",
        "\n",
        "    a = abc(5)\n",
        "    print(a)\n"
      ]
    },
    {
      "cell_type": "markdown",
      "metadata": {
        "id": "K4Lrf5N9JEg7"
      },
      "source": [
        "### 6. Using lambda function perform the following task : take an input, squares it, add 5, then return the answer"
      ]
    },
    {
      "cell_type": "code",
      "execution_count": null,
      "metadata": {
        "colab": {
          "base_uri": "https://localhost:8080/"
        },
        "id": "IdoG_tAoJEg8",
        "outputId": "066180d3-3f8f-4072-a54a-15d0ab271dc8"
      },
      "outputs": [
        {
          "output_type": "stream",
          "name": "stdout",
          "text": [
            "14\n"
          ]
        }
      ],
      "source": [
        "abc = lambda x: x**2+5\n",
        "\n",
        "result = abc(3)\n",
        "print(result)"
      ]
    },
    {
      "cell_type": "markdown",
      "metadata": {
        "id": "i2bpjfD5JEg8"
      },
      "source": [
        "### 7. Write a function to calculate the power of a number raised to other ($a^b$)"
      ]
    },
    {
      "cell_type": "code",
      "execution_count": null,
      "metadata": {
        "colab": {
          "base_uri": "https://localhost:8080/"
        },
        "id": "i3sHziIKJEg9",
        "outputId": "12c8b86d-7ff4-44f0-a4a9-3761b1b25394"
      },
      "outputs": [
        {
          "output_type": "stream",
          "name": "stdout",
          "text": [
            "8\n"
          ]
        }
      ],
      "source": [
        "def abc(x,y):\n",
        "  return x**y\n",
        "\n",
        "result = abc(2,3)\n",
        "print(result)"
      ]
    },
    {
      "cell_type": "markdown",
      "metadata": {
        "id": "tIZvIM57JEg9"
      },
      "source": [
        "### 8. Write a function to calculate the area of a triangle\n",
        "\n",
        "area of triangle = 1/2 * base * height"
      ]
    },
    {
      "cell_type": "code",
      "execution_count": null,
      "metadata": {
        "id": "3TYwlHSfJEg9",
        "colab": {
          "base_uri": "https://localhost:8080/"
        },
        "outputId": "5934cc30-bb8c-41ed-88a5-1d76fa5f1340"
      },
      "outputs": [
        {
          "output_type": "stream",
          "name": "stdout",
          "text": [
            "25.0\n"
          ]
        }
      ],
      "source": [
        "def abc(b, h):\n",
        "  return 0.5*b*h\n",
        "\n",
        "res = abc(10,5)\n",
        "print(res)\n"
      ]
    },
    {
      "cell_type": "markdown",
      "metadata": {
        "id": "Me1Rpb_yJEg9"
      },
      "source": [
        "### 9. Create a function that takes country as the input and returns \"I am from *Country* \""
      ]
    },
    {
      "cell_type": "code",
      "execution_count": null,
      "metadata": {
        "id": "ZW08sk--JEg9"
      },
      "outputs": [],
      "source": [
        "# prompt:\n",
        "\n",
        "# 1. Write a function to add, subtract, multiply and divide two variables passed to it and print the result\n",
        "\n",
        "def add_subtract_multiply_divide(a, b):\n",
        "  \"\"\"\n",
        "  Adds, subtracts, multiplies and divides two variables.\n",
        "\n",
        "  Args:\n",
        "    a: The first variable (int or float).\n",
        "    b: The second variable (int or float).\n",
        "\n",
        "  Returns:\n",
        "    None\n",
        "  \"\"\"\n",
        "\n",
        "  print(f\"{a} + {b} = {a + b}\")\n",
        "  print(f\"{a} - {b} = {a - b}\")\n",
        "  print(f\"{a} * {b} = {a * b}\")\n",
        "  print(f\"{a} / {b} = {a / b}\")\n",
        "\n",
        "# 2. Write a Python function given range (1,10) both included, that gives the square of every number\n",
        "\n",
        "def square_numbers(start, end):\n",
        "  \"\"\"\n",
        "  Prints the square of every number in the given range.\n",
        "\n",
        "  Args:\n",
        "    start: The starting number of the range (int).\n",
        "    end: The ending number of the range (int).\n",
        "\n",
        "  Returns:\n",
        "    None\n",
        "  \"\"\"\n",
        "\n",
        "  for i in range(start, end + 1):\n",
        "    print(i ** 2)\n",
        "\n",
        "# 3. Write a function to calculate simple interest\n",
        "\n",
        "def calculate_simple_interest(principal_amount, rate_of_interest, time):\n",
        "  \"\"\"\n",
        "  Calculates the simple interest for the given parameters.\n",
        "\n",
        "  Args:\n",
        "    principal_amount: The principal amount (float).\n",
        "    rate_of_interest: The annual rate of interest (float).\n",
        "    time: The time in years (float).\n",
        "\n",
        "  Returns:\n",
        "    The simple interest (float).\n",
        "  \"\"\"\n",
        "\n",
        "  simple_interest = (principal_amount * rate_of_interest * time) / 100\n",
        "  return simple_interest\n",
        "\n",
        "# 4. Write a function to check the number is divisible by 25. The function should return True if divisible and \"Not divisible\" if not\n",
        "\n",
        "def is_divisible_by_25(number):\n",
        "  \"\"\"\n",
        "  Checks if the given number is divisible by 25.\n",
        "\n",
        "  Args:\n",
        "    number: The number to check (int).\n",
        "\n",
        "  Returns:\n",
        "    True if the number is divisible by 25, False otherwise.\n",
        "  \"\"\"\n",
        "\n",
        "  return number % 25 == 0\n",
        "\n",
        "# 5. Define a function that takes an input, squares it, adds 5, then returns the answer\n",
        "\n",
        "def square_add_five(x):\n",
        "  \"\"\"\n",
        "  Squares the input, adds 5, and returns the result.\n",
        "\n",
        "  Args:\n",
        "    x: The input number (int or float).\n",
        "\n",
        "  Returns:\n",
        "    The squared input plus 5 (int or float).\n",
        "  \"\"\"\n",
        "\n",
        "  return x ** 2 + 5\n",
        "\n",
        "# 6. Using lambda function perform the following task : take an input, squares it, add 5, then return the answer\n",
        "\n",
        "square_add_five_lambda = lambda x: x ** 2 + 5\n",
        "\n",
        "# 7. Write a function to calculate the power of a number raised to other ($a^b$)\n",
        "\n",
        "def power(base, exponent):\n",
        "  \"\"\"\n",
        "  Calculates the power of a number raised to another.\n",
        "\n",
        "  Args:\n",
        "    base: The base number (int or float).\n",
        "    exponent: The exponent (int or float).\n",
        "\n",
        "  Returns:\n",
        "    The base raised to the power of the exponent (int or float).\n",
        "  \"\"\"\n",
        "\n",
        "  return base ** exponent\n",
        "\n",
        "# 8. Write a function to calculate the area of a triangle\n",
        "\n",
        "def triangle_area(base, height):\n",
        "  \"\"\"\n",
        "  Calculates the area of a triangle.\n",
        "\n",
        "  Args:\n",
        "    base: The base of the triangle (float).\n",
        "    height: The height of the triangle (float).\n",
        "\n",
        "  Returns:\n",
        "    The area of the triangle (float).\n",
        "  \"\"\"\n",
        "\n",
        "  return 0.5 * base * height\n",
        "\n",
        "# 9. Create a function that takes country as the input and returns \"I am from *Country* \"\n",
        "\n",
        "def from_country(country):\n",
        "  \"\"\"\n",
        "  Returns a string stating the country of origin.\n",
        "\n",
        "  Args:\n",
        "    country: The country of origin (string).\n",
        "\n",
        "  Returns:\n",
        "    A string stating the country of origin.\n",
        "  \"\"\"\n",
        "\n",
        "  return f\"I am from {country}\"\n"
      ]
    },
    {
      "cell_type": "markdown",
      "metadata": {
        "id": "jHiqF-VaJEg-"
      },
      "source": [
        "### 10. Write a function to convert degree Celsius temperature to Fahrenheit"
      ]
    },
    {
      "cell_type": "code",
      "execution_count": null,
      "metadata": {
        "id": "F_SgG9JaJEg-"
      },
      "outputs": [],
      "source": []
    }
  ],
  "metadata": {
    "kernelspec": {
      "display_name": "Python 3 (ipykernel)",
      "language": "python",
      "name": "python3"
    },
    "language_info": {
      "codemirror_mode": {
        "name": "ipython",
        "version": 3
      },
      "file_extension": ".py",
      "mimetype": "text/x-python",
      "name": "python",
      "nbconvert_exporter": "python",
      "pygments_lexer": "ipython3",
      "version": "3.9.7"
    },
    "colab": {
      "provenance": [],
      "include_colab_link": true
    }
  },
  "nbformat": 4,
  "nbformat_minor": 0
}