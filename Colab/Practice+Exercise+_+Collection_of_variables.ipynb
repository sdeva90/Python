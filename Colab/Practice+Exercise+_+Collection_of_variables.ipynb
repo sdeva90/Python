{
  "cells": [
    {
      "cell_type": "markdown",
      "metadata": {
        "id": "view-in-github",
        "colab_type": "text"
      },
      "source": [
        "<a href=\"https://colab.research.google.com/github/sdeva90/Python/blob/master/Colab/Practice%2BExercise%2B_%2BCollection_of_variables.ipynb\" target=\"_parent\"><img src=\"https://colab.research.google.com/assets/colab-badge.svg\" alt=\"Open In Colab\"/></a>"
      ]
    },
    {
      "cell_type": "markdown",
      "metadata": {
        "id": "3qyqKmGnzLob"
      },
      "source": [
        "# **COLLECTION OF VARIABLES**"
      ]
    },
    {
      "cell_type": "markdown",
      "metadata": {
        "id": "-o_tbnwizLog"
      },
      "source": [
        "### 1. Create a list of repeated element (element 2, 48 times)"
      ]
    },
    {
      "cell_type": "code",
      "execution_count": null,
      "metadata": {
        "id": "Q_v5xj3AzLog"
      },
      "outputs": [],
      "source": []
    },
    {
      "cell_type": "markdown",
      "metadata": {
        "id": "pmquaugbzLoh"
      },
      "source": [
        "### 2. Print the second element of the list\n",
        "\n",
        "list = [\"apple\",\"orange\",\"grapes\",\"watermelon\"]"
      ]
    },
    {
      "cell_type": "code",
      "execution_count": null,
      "metadata": {
        "id": "DlF99fHLzLoh"
      },
      "outputs": [],
      "source": []
    },
    {
      "cell_type": "markdown",
      "metadata": {
        "id": "kITzOZcwzLoh"
      },
      "source": [
        "### 3.  Replace the second element of the list with \"strawberries\"\n",
        "list = [\"apple\",\"orange\",\"grapes\",\"watermelon\"]"
      ]
    },
    {
      "cell_type": "code",
      "execution_count": null,
      "metadata": {
        "id": "zJVDJ_X_zLoi"
      },
      "outputs": [],
      "source": []
    },
    {
      "cell_type": "markdown",
      "metadata": {
        "id": "-5m-mqfnzLoi"
      },
      "source": [
        "### 4. Iterate through the list and print the values"
      ]
    },
    {
      "cell_type": "code",
      "execution_count": null,
      "metadata": {
        "id": "s1V3DVUlzLoi"
      },
      "outputs": [],
      "source": []
    },
    {
      "cell_type": "markdown",
      "metadata": {
        "id": "zKQ5ddxdzLoj"
      },
      "source": [
        "### 5. Write a Python code to print squares of all numbers present in a list = [1, 12, 24, 36, 11, 20,50]"
      ]
    },
    {
      "cell_type": "code",
      "execution_count": null,
      "metadata": {
        "id": "FpgE1DE7zLoj"
      },
      "outputs": [],
      "source": []
    },
    {
      "cell_type": "markdown",
      "metadata": {
        "id": "WpKIegu7zLoj"
      },
      "source": [
        "### 6. Pop yellow color from the list below:\n",
        "List=['white','red', 'blue', 'green','blue','yellow', 'black']"
      ]
    },
    {
      "cell_type": "code",
      "execution_count": null,
      "metadata": {
        "id": "bGesXYmEzLok"
      },
      "outputs": [],
      "source": []
    },
    {
      "cell_type": "markdown",
      "metadata": {
        "id": "MooLx2VEzLok"
      },
      "source": [
        "### 7. Check length of list\n",
        "\n",
        "list=[\"a\",\"b\",\"c\",\"d\",\"e\"]"
      ]
    },
    {
      "cell_type": "code",
      "execution_count": null,
      "metadata": {
        "id": "ca98FMgSzLok"
      },
      "outputs": [],
      "source": []
    },
    {
      "cell_type": "markdown",
      "metadata": {
        "id": "x12n0X9hzLok"
      },
      "source": [
        "###  8. Create a dictionary with the following information:\n",
        "\n",
        "brand = Audi\n",
        "\n",
        "Model = Q2\n",
        "\n",
        "Year = 1980"
      ]
    },
    {
      "cell_type": "code",
      "execution_count": null,
      "metadata": {
        "id": "2RTc7uE9zLol"
      },
      "outputs": [],
      "source": []
    },
    {
      "cell_type": "markdown",
      "metadata": {
        "id": "CKQoGioXzLol"
      },
      "source": [
        "### 9. In the above dictionary change the year to 2019"
      ]
    },
    {
      "cell_type": "code",
      "execution_count": null,
      "metadata": {
        "id": "Xr3VTUVmzLom"
      },
      "outputs": [],
      "source": []
    },
    {
      "cell_type": "markdown",
      "metadata": {
        "id": "rhsaiIz5zLom"
      },
      "source": [
        "### 10. Create a set of following elements\n",
        "\n",
        "1.0, \"Hello\", 55 , (6,7,8)"
      ]
    },
    {
      "cell_type": "code",
      "execution_count": null,
      "metadata": {
        "id": "w5_Yu5cCzLom"
      },
      "outputs": [],
      "source": []
    }
  ],
  "metadata": {
    "kernelspec": {
      "display_name": "Python 3 (ipykernel)",
      "language": "python",
      "name": "python3"
    },
    "language_info": {
      "codemirror_mode": {
        "name": "ipython",
        "version": 3
      },
      "file_extension": ".py",
      "mimetype": "text/x-python",
      "name": "python",
      "nbconvert_exporter": "python",
      "pygments_lexer": "ipython3",
      "version": "3.9.7"
    },
    "colab": {
      "provenance": [],
      "include_colab_link": true
    }
  },
  "nbformat": 4,
  "nbformat_minor": 0
}