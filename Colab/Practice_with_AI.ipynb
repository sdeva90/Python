{
  "nbformat": 4,
  "nbformat_minor": 0,
  "metadata": {
    "colab": {
      "provenance": [],
      "authorship_tag": "ABX9TyMScRzRDaA3ZXlYaK0C9oQx",
      "include_colab_link": true
    },
    "kernelspec": {
      "name": "python3",
      "display_name": "Python 3"
    },
    "language_info": {
      "name": "python"
    }
  },
  "cells": [
    {
      "cell_type": "markdown",
      "metadata": {
        "id": "view-in-github",
        "colab_type": "text"
      },
      "source": [
        "<a href=\"https://colab.research.google.com/github/sdeva90/Python/blob/master/Colab/Practice_with_AI.ipynb\" target=\"_parent\"><img src=\"https://colab.research.google.com/assets/colab-badge.svg\" alt=\"Open In Colab\"/></a>"
      ]
    },
    {
      "cell_type": "markdown",
      "source": [
        "# New Section\n",
        "Write a Python function named is_even that takes a single integer as an argument and returns True if the number is even, and False otherwise. How would you implement this function?"
      ],
      "metadata": {
        "id": "YhyLBmP7Apae"
      }
    },
    {
      "cell_type": "code",
      "execution_count": null,
      "metadata": {
        "colab": {
          "base_uri": "https://localhost:8080/"
        },
        "id": "Z880V5La_tSd",
        "outputId": "eb7940cd-61e7-468f-d671-0341482f4cef"
      },
      "outputs": [
        {
          "output_type": "stream",
          "name": "stdout",
          "text": [
            "True\n"
          ]
        }
      ],
      "source": [
        "def eve(x):\n",
        "  if x%2 == 0:\n",
        "    return True\n",
        "  else:\n",
        "    return False\n",
        "print(eve(2))"
      ]
    },
    {
      "cell_type": "markdown",
      "source": [],
      "metadata": {
        "id": "MpxNZJ3eAK8d"
      }
    },
    {
      "cell_type": "markdown",
      "source": [
        "Create a Python function called count_vowels that takes a string as input and returns the number of vowels in that string. Consider ‘a’, ‘e’, ‘i’, ‘o’, and ‘u’ as vowels for this task. How would you implement this function?"
      ],
      "metadata": {
        "id": "bTgq8W3PAhsG"
      }
    },
    {
      "cell_type": "code",
      "source": [
        "\n",
        "def count_vowels(string):\n",
        "  sum = 0\n",
        "  string = string.lower()  # Convert the string to lowercase to make the function case-insensitive\n",
        "  for i in string:\n",
        "      if i in (\"a\", \"e\", \"i\", \"o\", \"u\"):\n",
        "          sum += 1\n",
        "  return sum\n",
        "print(count_vowels(\"i love yuou\"))"
      ],
      "metadata": {
        "colab": {
          "base_uri": "https://localhost:8080/"
        },
        "id": "mAwZM049AnzP",
        "outputId": "56a3f336-2c80-4114-adb3-e0fc91d5bb28"
      },
      "execution_count": null,
      "outputs": [
        {
          "output_type": "stream",
          "name": "stdout",
          "text": [
            "6\n"
          ]
        }
      ]
    },
    {
      "cell_type": "markdown",
      "source": [
        "Write a Python function called reverse_string that takes a string as input and returns the reversed version of that string. How would you implement this function?\n"
      ],
      "metadata": {
        "id": "XcWyAjL2DRk9"
      }
    },
    {
      "cell_type": "code",
      "source": [
        "def reverse_string(a):\n",
        "  for i in a:\n",
        "    reversed_string = a[::-1]\n",
        "  return reversed_string\n",
        "print(reverse_string([\" i lovd uou. \"]))"
      ],
      "metadata": {
        "colab": {
          "base_uri": "https://localhost:8080/"
        },
        "id": "ft4nBjtdDShQ",
        "outputId": "5cd1d498-1b21-4cef-f65e-a25ead3d6576"
      },
      "execution_count": null,
      "outputs": [
        {
          "output_type": "stream",
          "name": "stdout",
          "text": [
            "[' i lovd uou. ']\n"
          ]
        }
      ]
    },
    {
      "cell_type": "markdown",
      "source": [
        "\n",
        "Write a Python function named is_palindrome that checks if a given string is a palindrome. A palindrome is a word, phrase, number, or other sequence of characters which reads the same backward as forward, ignoring spaces, punctuation, and capitalization. How would you implement this function to handle these considerations?"
      ],
      "metadata": {
        "id": "r_fJW1uoIX5h"
      }
    },
    {
      "cell_type": "code",
      "source": [
        "import re\n",
        "def is_palindrome(string):\n",
        "  string = re.sub(r'[^a-zA-Z0-9]', '', string.lower())\n",
        "  reversed_string = string[::-1]\n",
        "  if reversed_string == string:\n",
        "    return True\n",
        "  else:\n",
        "    return False\n",
        "print(is_palindrome(\",Rab,bar.\"))"
      ],
      "metadata": {
        "colab": {
          "base_uri": "https://localhost:8080/"
        },
        "id": "6q97YLCCIZFX",
        "outputId": "c92c81d3-6144-4df8-94a2-d5d27b988c8b"
      },
      "execution_count": null,
      "outputs": [
        {
          "output_type": "stream",
          "name": "stdout",
          "text": [
            "True\n"
          ]
        }
      ]
    },
    {
      "cell_type": "markdown",
      "source": [
        "# New Section\n",
        "Write a Python function named sum_of_squares that takes a list of numbers and returns the sum of the squares of each number in the list. How would you implement this function?"
      ],
      "metadata": {
        "id": "u9XA_doVN92Q"
      }
    },
    {
      "cell_type": "code",
      "source": [
        "def sum_of_square():\n",
        "  numbers = [1, 2, 3, 4 ,5]\n",
        "  sum = 0\n",
        "  for i in numbers:\n",
        "    sum += i**2\n",
        "  return sum\n",
        "print(sum_of_square())"
      ],
      "metadata": {
        "colab": {
          "base_uri": "https://localhost:8080/"
        },
        "id": "FjNv_Fo2OKjb",
        "outputId": "1fab0d2a-7803-45dd-b985-f43165a7b213"
      },
      "execution_count": null,
      "outputs": [
        {
          "output_type": "stream",
          "name": "stdout",
          "text": [
            "55\n"
          ]
        }
      ]
    },
    {
      "cell_type": "markdown",
      "source": [
        "# New Section\n",
        "Write a Python function named find_longest_word that takes a list of words and returns the longest word from the list. If there are multiple words with the same maximum length, return the first one that appears in the list. How would you implement this function?"
      ],
      "metadata": {
        "id": "a57RcwOUVuQJ"
      }
    },
    {
      "cell_type": "code",
      "source": [
        "def find_longest():\n",
        "  lists = [\"namesyiu\", \"seating\", \"theater\", \"followings\", \"togethernessssss\"]\n",
        "  length = \"\"\n",
        "  for i in lists:\n",
        "    if len(i) > len(length):\n",
        "      length  = i\n",
        "  return(length)\n",
        "  return(len(length))\n",
        "\n",
        "print(find_longest())\n"
      ],
      "metadata": {
        "colab": {
          "base_uri": "https://localhost:8080/"
        },
        "id": "U8hh0E5SVxAv",
        "outputId": "735a25ca-cabd-4a1f-f0a0-941605040d14"
      },
      "execution_count": null,
      "outputs": [
        {
          "output_type": "stream",
          "name": "stdout",
          "text": [
            "togethernessssss\n"
          ]
        }
      ]
    },
    {
      "cell_type": "markdown",
      "source": [
        "Write a Python function named merge_dicts that takes two dictionaries as arguments and merges them into a new dictionary. If there is a key that appears in both dictionaries, the value from the second dictionary should override the value from the first dictionary.\n",
        "\n",
        "For instance, if the function is given the dictionaries {1: 'a', 2: 'b'} and {2: 'c', 3: 'd'}, it should return {1: 'a', 2: 'c', 3: 'd'}.\n"
      ],
      "metadata": {
        "id": "i48b0p0Aae2y"
      }
    },
    {
      "cell_type": "code",
      "source": [
        "def merge_dicts(dict1, dict2):\n",
        "\n",
        "  merged_dict = dict1.copy()\n",
        "  merged_dict.update(dict2)\n",
        "  return(merged_dict)\n",
        "dict1 = {1: 'a', 2: 'b'}\n",
        "dict2 = {2: '7868', 3: 'd'}\n",
        "result = merge_dicts(dict1, dict2)\n",
        "print(result)\n"
      ],
      "metadata": {
        "colab": {
          "base_uri": "https://localhost:8080/"
        },
        "id": "vzu2oqmYafvI",
        "outputId": "c5f2a0c7-3bdf-45b4-a861-50262c637085"
      },
      "execution_count": null,
      "outputs": [
        {
          "output_type": "stream",
          "name": "stdout",
          "text": [
            "{1: 'a', 2: '7868', 3: 'd'}\n"
          ]
        }
      ]
    },
    {
      "cell_type": "markdown",
      "source": [
        "Write a Python function named filter_even_numbers that takes a list of integers and returns a new list containing only the even numbers from the original list. For example, given the list [1, 2, 3, 4, 5, 6], the function should return [2, 4, 6].\n",
        "\n",
        "How would you implement this function?"
      ],
      "metadata": {
        "id": "E9jc9Y_91NJ5"
      }
    },
    {
      "cell_type": "code",
      "source": [
        "def filter_even_numbers(num):\n",
        "  a = []\n",
        "  for i in num:\n",
        "    if i%2 == 0:\n",
        "      a.append(i)\n",
        "  return a\n",
        "abc = [1,2,3,4,5,6]\n",
        "result = filter_even_numbers(abc)\n",
        "print(result)"
      ],
      "metadata": {
        "colab": {
          "base_uri": "https://localhost:8080/"
        },
        "id": "OKfKg-DU1OhN",
        "outputId": "55337da0-fef2-4ef0-9ff8-75350f19e5b9"
      },
      "execution_count": null,
      "outputs": [
        {
          "output_type": "stream",
          "name": "stdout",
          "text": [
            "[2, 4, 6]\n"
          ]
        }
      ]
    },
    {
      "cell_type": "code",
      "source": [
        "def sum_of_square():\n",
        "  a = [1, 2, 3, 4, 5, 6]\n",
        "  sum = 0\n",
        "  for i in a:\n",
        "    sum += i**2\n",
        "  return sum\n",
        "print(sum_of_square())"
      ],
      "metadata": {
        "colab": {
          "base_uri": "https://localhost:8080/"
        },
        "id": "OSr9WOcAtJ-6",
        "outputId": "c5f9d49e-a0e2-489f-e1e6-30a2648487a8"
      },
      "execution_count": null,
      "outputs": [
        {
          "output_type": "stream",
          "name": "stdout",
          "text": [
            "91\n"
          ]
        }
      ]
    },
    {
      "cell_type": "markdown",
      "source": [
        "Isprime"
      ],
      "metadata": {
        "id": "mQevzOsGysGk"
      }
    },
    {
      "cell_type": "code",
      "source": [
        "def is_prime(x):\n",
        "  for i in range(2,x-1): #// 1,8\n",
        "    if x%i == 0: #// x/i // 9/3\n",
        "      return False\n",
        "  return True\n",
        "\n",
        "print(is_prime(999))\n"
      ],
      "metadata": {
        "colab": {
          "base_uri": "https://localhost:8080/"
        },
        "id": "Da6n6CdStLs1",
        "outputId": "3917b6c1-37e4-40c2-a1f1-7aaf1847e19c"
      },
      "execution_count": null,
      "outputs": [
        {
          "output_type": "stream",
          "name": "stdout",
          "text": [
            "False\n"
          ]
        }
      ]
    },
    {
      "cell_type": "markdown",
      "source": [
        "Palindrome"
      ],
      "metadata": {
        "id": "aRZr-_GGywZb"
      }
    },
    {
      "cell_type": "code",
      "source": [
        "def is_palindrome(a):\n",
        "  reversed = a[::-1]\n",
        "  if a == reversed:\n",
        "    return True\n",
        "  else:\n",
        "    return False\n",
        "print(is_palindrome(\"ice\"))"
      ],
      "metadata": {
        "colab": {
          "base_uri": "https://localhost:8080/"
        },
        "id": "T3tChOZeyt23",
        "outputId": "154a69c1-11bd-4e2c-b2a0-2f21313785d8"
      },
      "execution_count": null,
      "outputs": [
        {
          "output_type": "stream",
          "name": "stdout",
          "text": [
            "False\n"
          ]
        }
      ]
    },
    {
      "cell_type": "markdown",
      "source": [
        "Write it without a reversed string using a pointer"
      ],
      "metadata": {
        "id": "dACUBm_z0ZWB"
      }
    },
    {
      "cell_type": "markdown",
      "source": [],
      "metadata": {
        "id": "fl__D21N0ZNg"
      }
    },
    {
      "cell_type": "code",
      "source": [
        "def ispalindrome(abc):\n",
        "  length = len(abc)\n",
        "  p1 = 0\n",
        "  p2 = length-1\n",
        "  while p1<=p2:\n",
        "    if abc[p1] != abc[p2]:\n",
        "      return False\n",
        "    p1 += 1\n",
        "    p2 -= 1\n",
        "  return True\n",
        "print(ispalindrome(\"\"))\n",
        "\n"
      ],
      "metadata": {
        "colab": {
          "base_uri": "https://localhost:8080/"
        },
        "id": "ldyhHRRu0jOn",
        "outputId": "f9c62d1c-eed5-4f55-88ad-f999b7f47e57"
      },
      "execution_count": null,
      "outputs": [
        {
          "output_type": "stream",
          "name": "stdout",
          "text": [
            "True\n"
          ]
        }
      ]
    },
    {
      "cell_type": "markdown",
      "source": [
        "# New Section\n",
        "count the number of words using the space as a seperator"
      ],
      "metadata": {
        "id": "XVPpnEAs4Nx-"
      }
    },
    {
      "cell_type": "code",
      "source": [
        "# import re\n",
        "# Output: \"Hello, world!\"\n",
        "def counttheword(scentence):\n",
        "  words = scentence.split()\n",
        "  result = len(words)\n",
        "  return result\n",
        "print(counttheword(\"i love you!!  ,fg\"))"
      ],
      "metadata": {
        "colab": {
          "base_uri": "https://localhost:8080/"
        },
        "id": "dpJXJVC24Wv4",
        "outputId": "2f1e68ea-e26a-4d96-a9d1-b66dd8dffecd"
      },
      "execution_count": null,
      "outputs": [
        {
          "output_type": "stream",
          "name": "stdout",
          "text": [
            "4\n"
          ]
        }
      ]
    },
    {
      "cell_type": "code",
      "source": [
        "def count_words(text):\n",
        "    # Split the text into words based on spaces\n",
        "    words = text.split()\n",
        "    # Count the number of words\n",
        "    return len(words)\n",
        "\n",
        "# Example usage\n",
        "sample_text = \"Hello world! This is an example. i   of a word counter.\"\n",
        "word_count = count_words(sample_text)\n",
        "print(\"Number of words:\", word_count)"
      ],
      "metadata": {
        "colab": {
          "base_uri": "https://localhost:8080/"
        },
        "id": "iGjL2jRK9EvD",
        "outputId": "6a81bfeb-0502-400e-c150-5b3715be1b44"
      },
      "execution_count": null,
      "outputs": [
        {
          "output_type": "stream",
          "name": "stdout",
          "text": [
            "Number of words: 11\n"
          ]
        }
      ]
    },
    {
      "cell_type": "markdown",
      "source": [
        "# New Section\n",
        "Add Plus one to the list of integers."
      ],
      "metadata": {
        "id": "KdO9wBsHUuKG"
      }
    },
    {
      "cell_type": "code",
      "source": [
        "def plusone(digits):\n",
        "  for i in reversed(range(len(digits))):\n",
        "    if digits[i]<9:\n",
        "      digits[i] += 1\n",
        "      return digits\n",
        "    else:\n",
        "      digits[i] = 0\n",
        "  return [1] + digits\n",
        "print(plusone([9, 9, 9]))\n"
      ],
      "metadata": {
        "id": "kBE3Jiu-9EgG",
        "colab": {
          "base_uri": "https://localhost:8080/"
        },
        "outputId": "41959d04-e027-4b16-ab86-2da5ae4e95d0"
      },
      "execution_count": null,
      "outputs": [
        {
          "output_type": "stream",
          "name": "stdout",
          "text": [
            "[1, 0, 0, 0]\n"
          ]
        }
      ]
    },
    {
      "cell_type": "markdown",
      "source": [
        "Factorial of a number, represented as n!, is the product of all positive integers less than or equal to n. For instance, the factorial of 5 is 120 (i.e., 5! = 5 x 4 x 3 x 2 x 1 = 120).\n",
        "\n",
        "Requirements:\n",
        "\n",
        "\t•\tCreate a function named factorial that accepts one integer parameter.\n",
        "\t•\tUse a loop to calculate the factorial.\n",
        "\t•\tThe function should return the factorial value.\n",
        "\t•\tEnsure that the function handles non-negative integer inputs properly"
      ],
      "metadata": {
        "id": "OebuH-D9j15a"
      }
    },
    {
      "cell_type": "code",
      "source": [
        "def factorial(n):\n",
        "  if n == 0:\n",
        "      return 1\n",
        "  for i in range(1,n):\n",
        "    n = n*i\n",
        "  return n\n",
        "print(factorial(4))\n",
        "\n"
      ],
      "metadata": {
        "colab": {
          "base_uri": "https://localhost:8080/"
        },
        "id": "YCcatl6oj6lJ",
        "outputId": "f700f88c-e594-4a02-9ca6-c2a2966bfab9"
      },
      "execution_count": null,
      "outputs": [
        {
          "output_type": "stream",
          "name": "stdout",
          "text": [
            "24\n"
          ]
        }
      ]
    },
    {
      "cell_type": "markdown",
      "source": [
        "Write a Python function that finds the most frequent element in a list. If there are multiple elements with the same maximum frequency, return all of them in a list, sorted in ascending order.\n",
        "\n",
        "For example:\n",
        "\n",
        "\t•\tFor the list [1, 2, 3, 1, 2, 1], the function should return [1] because 1 appears most frequently.\n",
        "\t•\tFor the list [4, 4, 5, 5, 6], the function should return [4, 5] since both appear with the same maximum frequency.\n",
        "\n",
        "Give it a try and let me know if you need any hints!"
      ],
      "metadata": {
        "id": "OIEOheXrpGAP"
      }
    },
    {
      "cell_type": "code",
      "source": [
        "def most_frequent_elements(lst):\n",
        "    if not lst:\n",
        "        return []\n",
        "\n",
        "    frequency = {}\n",
        "    max_freq = 0\n",
        "    result = []\n",
        "\n",
        "    # Count frequencies of each element\n",
        "    for item in lst:\n",
        "        if item in frequency:\n",
        "            frequency[item] += 1\n",
        "        else:\n",
        "            frequency[item] = 1\n",
        "\n",
        "    # Determine the maximum frequency\n",
        "    max_freq = max(frequency.values())\n",
        "\n",
        "    # Collect all elements with the maximum frequency\n",
        "    for item, freq in frequency.items():\n",
        "        if freq == max_freq:\n",
        "            result.append(item)\n",
        "\n",
        "    # Sort the result before returning\n",
        "    result.sort()\n",
        "    return result\n",
        "\n",
        "# Example usage\n",
        "print(most_frequent_elements([1, 2, 3, 1, 2, 1]))  # Output: [1]\n",
        "print(most_frequent_elements([4, 4, 5, 5, 6]))    # Output: [4, 5]"
      ],
      "metadata": {
        "colab": {
          "base_uri": "https://localhost:8080/"
        },
        "id": "9HNDb2GzpHAd",
        "outputId": "2ecdf2d2-30a1-463f-a6fe-e76a86270a83"
      },
      "execution_count": null,
      "outputs": [
        {
          "output_type": "stream",
          "name": "stdout",
          "text": [
            "{1: 3, 2: 2, 3: 1}\n"
          ]
        }
      ]
    },
    {
      "cell_type": "markdown",
      "source": [
        "data manipulation.\n",
        "\n",
        "Task:\n",
        "Write a Python function that converts a list of strings to a dictionary, where each string is a key, and the value is the length of the string.\n",
        "\n",
        "For example:\n",
        "\n",
        "\t•\tFor the list [\"apple\", \"banana\", \"cherry\"], the function should return {\"apple\": 5, \"banana\": 6, \"cherry\": 6}.\n",
        "\n",
        "Try implementing this function, and let me know if you need any hints or help!"
      ],
      "metadata": {
        "id": "2Yu7aMY37G2O"
      }
    },
    {
      "cell_type": "code",
      "source": [
        "def list_to_dict(lst):\n",
        "  dic = {}\n",
        "  for i in lst:\n",
        "    dic[i] = len(i)\n",
        "  return dic\n",
        "print(list_to_dict([\"apple\", \"babana\", \"orange\"]))\n"
      ],
      "metadata": {
        "colab": {
          "base_uri": "https://localhost:8080/"
        },
        "id": "hfxDmPmr7H1t",
        "outputId": "0d344e68-df87-4b2d-d959-07994904833a"
      },
      "execution_count": null,
      "outputs": [
        {
          "output_type": "stream",
          "name": "stdout",
          "text": [
            "{'apple': 5, 'babana': 6, 'orange': 6}\n"
          ]
        }
      ]
    },
    {
      "cell_type": "markdown",
      "source": [
        "Write a Python function that removes all even numbers from a given list of integers and returns the modified list. The original list should not be changed.\n",
        "\n",
        "For example:\n",
        "\n",
        "\t•\tFor the list [1, 2, 3, 4, 5, 6], the function should return [1, 3, 5].\n",
        "\n",
        "Give it a try and let me know if you need any hints or if you want to discuss your solution!"
      ],
      "metadata": {
        "id": "61gd00INAxIu"
      }
    },
    {
      "cell_type": "code",
      "source": [
        "def only_odd(a):\n",
        "  result = []\n",
        "  for i in a:\n",
        "    if i % 2 != 0:\n",
        "      result.append(i)\n",
        "  return result\n",
        "a = [1, 2, 3, 4, 5 ,6 ,67, 8,0]\n",
        "print(only_odd(a))\n",
        "\n"
      ],
      "metadata": {
        "colab": {
          "base_uri": "https://localhost:8080/"
        },
        "id": "O3ZvJ17qAw22",
        "outputId": "322c9e90-9b8b-4880-fc4f-095d0a7c164b"
      },
      "execution_count": null,
      "outputs": [
        {
          "output_type": "stream",
          "name": "stdout",
          "text": [
            "[1, 3, 5, 67]\n"
          ]
        }
      ]
    },
    {
      "cell_type": "markdown",
      "source": [
        "Write to function for factorial\n"
      ],
      "metadata": {
        "id": "2Idycrn2Uxql"
      }
    },
    {
      "cell_type": "code",
      "source": [
        "def fact(a):\n",
        "  if a == 0:\n",
        "    return 1\n",
        "  n = 1\n",
        "  for i in range(1, a+1):\n",
        "    n *= i\n",
        "  return n\n",
        "print(fact(4))"
      ],
      "metadata": {
        "colab": {
          "base_uri": "https://localhost:8080/"
        },
        "id": "YKTL3btxU1Ln",
        "outputId": "7701af44-407b-44ed-abd8-f87d876c8fdf"
      },
      "execution_count": null,
      "outputs": [
        {
          "output_type": "stream",
          "name": "stdout",
          "text": [
            "24\n"
          ]
        }
      ]
    }
  ]
}