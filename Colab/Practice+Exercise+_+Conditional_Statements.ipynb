{
  "cells": [
    {
      "cell_type": "markdown",
      "metadata": {
        "id": "view-in-github",
        "colab_type": "text"
      },
      "source": [
        "<a href=\"https://colab.research.google.com/github/sdeva90/Python/blob/master/Colab/Practice%2BExercise%2B_%2BConditional_Statements.ipynb\" target=\"_parent\"><img src=\"https://colab.research.google.com/assets/colab-badge.svg\" alt=\"Open In Colab\"/></a>"
      ]
    },
    {
      "cell_type": "markdown",
      "metadata": {
        "id": "cw6df5eyutHe"
      },
      "source": [
        "# **CONDITIONAL STATEMENTS EXERCISE**"
      ]
    },
    {
      "cell_type": "markdown",
      "metadata": {
        "id": "WRJAsOVVutHi"
      },
      "source": [
        "### 1. Check if a is equal to 10, If yes, print \"Hello\", else print \"Good Bye\"\n",
        "a = 56"
      ]
    },
    {
      "cell_type": "code",
      "execution_count": null,
      "metadata": {
        "colab": {
          "base_uri": "https://localhost:8080/"
        },
        "id": "Z2xnfAKGutHj",
        "outputId": "4c3f0792-eeda-40f0-adfd-e6b7c36acab1"
      },
      "outputs": [
        {
          "output_type": "stream",
          "name": "stdout",
          "text": [
            "ENter a number:78\n",
            "Good Bye\n"
          ]
        }
      ],
      "source": [
        "a = int(input(\"ENter a number:\"))\n",
        "if a == 10:\n",
        "  print(\"Hello\")\n",
        "else:\n",
        "  print(\"Good Bye\")"
      ]
    },
    {
      "cell_type": "markdown",
      "metadata": {
        "id": "b3dwsqfEutHk"
      },
      "source": [
        "### 2. Check whether a number is even or odd\n",
        "a = 2020"
      ]
    },
    {
      "cell_type": "code",
      "execution_count": null,
      "metadata": {
        "colab": {
          "base_uri": "https://localhost:8080/"
        },
        "id": "-9M9fm1zutHk",
        "outputId": "ee2bcf46-3d94-4361-f073-83f302aa9562"
      },
      "outputs": [
        {
          "output_type": "stream",
          "name": "stdout",
          "text": [
            "Even\n"
          ]
        }
      ],
      "source": [
        "if a%2 == 0:\n",
        "  print(\"Even\")\n",
        "else:\n",
        "  print(\"odd\")"
      ]
    },
    {
      "cell_type": "markdown",
      "metadata": {
        "id": "-wOTsN9_utHl"
      },
      "source": [
        "### 3.  Check whether the area of the rectangle is greater than the perimeter of the rectangle\n",
        "length = 5\n",
        "breadth = 10\n",
        "\n",
        "Hint: Area of rectangle = length * breadth\n",
        "\n",
        "Hint: Perimeter of rectangle = 2 * (length + breadth)"
      ]
    },
    {
      "cell_type": "code",
      "execution_count": null,
      "metadata": {
        "colab": {
          "base_uri": "https://localhost:8080/"
        },
        "id": "p3_BBQauutHl",
        "outputId": "fde8b47f-7fed-4d75-83b1-cb186a635585"
      },
      "outputs": [
        {
          "output_type": "stream",
          "name": "stdout",
          "text": [
            "Yes it is \n"
          ]
        }
      ],
      "source": [
        "length = 5\n",
        "breadth = 10\n",
        "if (length*breadth) > 2*(length+breadth):\n",
        "  print(\"Yes it is \")\n",
        "else:\n",
        "  print(\"no\")"
      ]
    },
    {
      "cell_type": "markdown",
      "metadata": {
        "id": "nb-t-iwqutHl"
      },
      "source": [
        "### 4. Calculate the average marks of a student in 5 subjects and give grades accordingly:\n",
        "If average>90 then Grade = A\n",
        "\n",
        "If average>80 then Grade = B\n",
        "\n",
        "If average>70 then Grade = C\n",
        "\n",
        "If average>60 then Grade = D\n",
        "\n",
        "If average>50 then Grade = E\n",
        "\n",
        "else Fail\n",
        "\n",
        "Marks in subject 1= 72\n",
        "\n",
        "Marks in subject 2= 85\n",
        "\n",
        "Marks in subject 3= 96\n",
        "\n",
        "Marks in subject 4= 42\n",
        "\n",
        "Marks in subject 5= 95"
      ]
    },
    {
      "cell_type": "code",
      "execution_count": null,
      "metadata": {
        "id": "j_cKCyrButHm"
      },
      "outputs": [],
      "source": []
    },
    {
      "cell_type": "markdown",
      "metadata": {
        "id": "1ouwhCsautHm"
      },
      "source": [
        "###  5. Check if a triangle is equilateral, isosceles or scalene.\n",
        "\n",
        "Hint :\n",
        "1. An equilateral triangle is a triangle in which all three sides are equal.\n",
        "\n",
        "2. A scalene triangle is a triangle that has three unequal sides.\n",
        "\n",
        "3. An isosceles triangle is a triangle with (at least) two equal sides.\n",
        "\n",
        "Dimensions of triangle:\n",
        "\n",
        "side 1 = 6\n",
        "\n",
        "side 2 = 8\n",
        "\n",
        "side 3 = 12"
      ]
    },
    {
      "cell_type": "code",
      "execution_count": null,
      "metadata": {
        "colab": {
          "base_uri": "https://localhost:8080/"
        },
        "id": "YEyJ_JVjutHm",
        "outputId": "9e086a19-b9b6-4cdd-9249-f282985f3e5b"
      },
      "outputs": [
        {
          "output_type": "stream",
          "name": "stdout",
          "text": [
            "iso\n"
          ]
        }
      ],
      "source": [
        "side1 = 6\n",
        "side2 = 8\n",
        "side3 = 12\n",
        "if side1 == side2 and side2 == side3:\n",
        "  print(\"equi\")\n",
        "elif side1 == side2 or side2 == side3:\n",
        "  print(\"scalene\")\n",
        "elif side1 != side2 != side3:\n",
        "  print(\"iso\")\n",
        "else:\n",
        "  print(\"nothing\")"
      ]
    },
    {
      "cell_type": "markdown",
      "metadata": {
        "id": "diTOhS-dutHn"
      },
      "source": [
        "### 6. Check if the word \"Data\" is present in the sentence \"I am a Data Scientist\". If found print \"It is present\" else print FALSE"
      ]
    },
    {
      "cell_type": "code",
      "execution_count": null,
      "metadata": {
        "colab": {
          "base_uri": "https://localhost:8080/"
        },
        "id": "xwa_4tdKutHn",
        "outputId": "dc1eac75-7de4-4d99-b304-40b561c794fd"
      },
      "outputs": [
        {
          "output_type": "stream",
          "name": "stdout",
          "text": [
            "yes\n"
          ]
        }
      ],
      "source": [
        "a = \"e word Data is present in the sentence I am a Data Scientist\"\n",
        "if \"Data\" in a:\n",
        "  print(\"yes\")\n",
        "else:\n",
        "  print(\"no\")\n"
      ]
    },
    {
      "cell_type": "markdown",
      "metadata": {
        "id": "Pyt-_cVYutHn"
      },
      "source": [
        "### 7. Write Python code to check if a number is positive or negative."
      ]
    },
    {
      "cell_type": "code",
      "execution_count": null,
      "metadata": {
        "colab": {
          "base_uri": "https://localhost:8080/"
        },
        "id": "UbjSHa9hutHo",
        "outputId": "8d249bc7-4aa9-4643-db3b-9e9f030c1ee6"
      },
      "outputs": [
        {
          "output_type": "stream",
          "name": "stdout",
          "text": [
            "give a number:-9\n",
            "negative\n"
          ]
        }
      ],
      "source": [
        "a = input(\"give a number:\")\n",
        "b = int(a)\n",
        "if b <0:\n",
        "  print(\"negative\")\n",
        "else:\n",
        "  print(\"pos\")"
      ]
    },
    {
      "cell_type": "markdown",
      "metadata": {
        "id": "7bpOch05utHo"
      },
      "source": [
        "### 8. x = 20 and y = 30. Write a Python code to check if x is less than y."
      ]
    },
    {
      "cell_type": "code",
      "execution_count": null,
      "metadata": {
        "colab": {
          "base_uri": "https://localhost:8080/"
        },
        "id": "Vrx4HNulutHo",
        "outputId": "39afb511-4988-4f6e-aed7-950a940a0c52"
      },
      "outputs": [
        {
          "output_type": "stream",
          "name": "stdout",
          "text": [
            "yes\n"
          ]
        }
      ],
      "source": [
        "x = 20\n",
        "y = 30\n",
        "if x<y:\n",
        "  print(\"yes\")"
      ]
    },
    {
      "cell_type": "markdown",
      "metadata": {
        "id": "D9A9Te2xutHo"
      },
      "source": [
        "### 9. Based on the users age, divide them into three groups\n",
        "    Group 1 : Age <18 , Minors who are not eligible to work\n",
        "    Group 2 : 18 < Age < 60 , Eligible to work\n",
        "    Group 3 : Age > 60, Too old to work as per govt. regulations.\n",
        "\n",
        "### Write a Python code for the same"
      ]
    },
    {
      "cell_type": "code",
      "execution_count": null,
      "metadata": {
        "id": "5al7lq_vutHo"
      },
      "outputs": [],
      "source": []
    },
    {
      "cell_type": "markdown",
      "metadata": {
        "id": "OqRWhPjDutHo"
      },
      "source": [
        "### 10. From the age of 3 people determine the oldest person among them.\n",
        "Age of first person = 25\n",
        "\n",
        "Age of second person = 34\n",
        "\n",
        "Age of third person = 45"
      ]
    },
    {
      "cell_type": "code",
      "execution_count": null,
      "metadata": {
        "id": "3Fs-MdUWutHp"
      },
      "outputs": [],
      "source": []
    }
  ],
  "metadata": {
    "kernelspec": {
      "display_name": "Python 3 (ipykernel)",
      "language": "python",
      "name": "python3"
    },
    "language_info": {
      "codemirror_mode": {
        "name": "ipython",
        "version": 3
      },
      "file_extension": ".py",
      "mimetype": "text/x-python",
      "name": "python",
      "nbconvert_exporter": "python",
      "pygments_lexer": "ipython3",
      "version": "3.9.7"
    },
    "colab": {
      "provenance": [],
      "include_colab_link": true
    }
  },
  "nbformat": 4,
  "nbformat_minor": 0
}