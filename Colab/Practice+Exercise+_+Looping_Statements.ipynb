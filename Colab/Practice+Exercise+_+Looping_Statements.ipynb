{
  "cells": [
    {
      "cell_type": "markdown",
      "metadata": {
        "id": "view-in-github",
        "colab_type": "text"
      },
      "source": [
        "<a href=\"https://colab.research.google.com/github/sdeva90/Python/blob/master/Colab/Practice%2BExercise%2B_%2BLooping_Statements.ipynb\" target=\"_parent\"><img src=\"https://colab.research.google.com/assets/colab-badge.svg\" alt=\"Open In Colab\"/></a>"
      ]
    },
    {
      "cell_type": "markdown",
      "metadata": {
        "id": "EtLRWWShtfEu"
      },
      "source": [
        "# **LOOPING STATEMENTS EXERCISE**"
      ]
    },
    {
      "cell_type": "markdown",
      "metadata": {
        "id": "yf3TudT5tfEw"
      },
      "source": [
        "### 1. Print -10 to -1 using for loop"
      ]
    },
    {
      "cell_type": "code",
      "execution_count": null,
      "metadata": {
        "id": "Mw0fo-wmtfEx"
      },
      "outputs": [],
      "source": [
        "# prompt:\n",
        "\n",
        "for i in range(-10,0):\n",
        "  print(i)\n"
      ]
    },
    {
      "cell_type": "markdown",
      "metadata": {
        "id": "syDgl-hEtfEx"
      },
      "source": [
        "### 2. Using while loop print numbers 1 to 10"
      ]
    },
    {
      "cell_type": "code",
      "execution_count": null,
      "metadata": {
        "id": "tHpaMf_otfEy"
      },
      "outputs": [],
      "source": [
        "# prompt:\n",
        "\n",
        "i = 1\n",
        "while i <= 10:\n",
        "  print(i)\n",
        "  i += 1\n"
      ]
    },
    {
      "cell_type": "markdown",
      "metadata": {
        "id": "xeEqwk2XtfEy"
      },
      "source": [
        "### 3. Using for loop print first ten even numbers"
      ]
    },
    {
      "cell_type": "code",
      "execution_count": null,
      "metadata": {
        "colab": {
          "base_uri": "https://localhost:8080/"
        },
        "id": "3RjtNy2RtfEz",
        "outputId": "4d3ce834-9deb-44cc-c09e-9c80df961547"
      },
      "outputs": [
        {
          "output_type": "stream",
          "name": "stdout",
          "text": [
            "0\n",
            "2\n",
            "4\n",
            "6\n",
            "8\n",
            "10\n",
            "12\n",
            "14\n",
            "16\n",
            "18\n"
          ]
        }
      ],
      "source": [
        "# prompt:\n",
        "\n",
        "# ### 3. Using for loop print first ten even numbers\n",
        "for i in range(0,20,2):\n",
        "  print(i)\n"
      ]
    },
    {
      "cell_type": "markdown",
      "metadata": {
        "id": "GDPyf4QbtfEz"
      },
      "source": [
        "### 4. Using while loop generate the table of 5"
      ]
    },
    {
      "cell_type": "code",
      "execution_count": null,
      "metadata": {
        "id": "67EJzISXtfE0"
      },
      "outputs": [],
      "source": [
        "# prompt:\n",
        "\n",
        "# ### 4. Using while loop generate the table of 5\n",
        "i = 5\n",
        "while i <= 50:\n",
        "  print(i)\n",
        "  i += 5\n"
      ]
    },
    {
      "cell_type": "markdown",
      "metadata": {
        "id": "oyr9Nt8PtfE0"
      },
      "source": [
        "### 5. Using for loop generate the table of 8"
      ]
    },
    {
      "cell_type": "code",
      "execution_count": null,
      "metadata": {
        "colab": {
          "base_uri": "https://localhost:8080/"
        },
        "id": "lTWoSDyotfE0",
        "outputId": "6e6ef986-11c5-48f5-ab5e-21e569039a68"
      },
      "outputs": [
        {
          "output_type": "stream",
          "name": "stdout",
          "text": [
            "0\n",
            "8\n",
            "16\n",
            "24\n",
            "32\n",
            "40\n",
            "48\n",
            "56\n",
            "64\n",
            "72\n",
            "80\n"
          ]
        }
      ],
      "source": [
        "for i in range(0,81, 8):\n",
        "  print(i)"
      ]
    },
    {
      "cell_type": "markdown",
      "metadata": {
        "id": "tR4pKNsJtfE1"
      },
      "source": [
        "### 6. For numbers 1 to 100, if a number is divisible by 3, then print Fizz.\n",
        "### If a number is divisible by 5, then print Buzz.\n",
        "### If a number is divisible by 3 and 5 both, then print FizzBuzz\n",
        "### If a number is neither divisible by 3 or 5, just print the number.\n",
        "\n",
        "Hint: use range(1,101) function  to generate numbers from 1 to 100"
      ]
    },
    {
      "cell_type": "code",
      "execution_count": null,
      "metadata": {
        "colab": {
          "base_uri": "https://localhost:8080/"
        },
        "id": "gmwDxi4WtfE1",
        "outputId": "4f5c803b-ade3-4741-9289-84738558d58d"
      },
      "outputs": [
        {
          "output_type": "stream",
          "name": "stdout",
          "text": [
            "1\n",
            "2\n",
            "Fizz\n",
            "4\n",
            "Buzz\n",
            "Fizz\n",
            "7\n",
            "8\n",
            "Fizz\n",
            "Buzz\n",
            "11\n",
            "Fizz\n",
            "13\n",
            "14\n",
            "FizzBuzz\n",
            "16\n",
            "17\n",
            "Fizz\n",
            "19\n",
            "Buzz\n",
            "Fizz\n",
            "22\n",
            "23\n",
            "Fizz\n",
            "Buzz\n",
            "26\n",
            "Fizz\n",
            "28\n",
            "29\n",
            "FizzBuzz\n",
            "31\n",
            "32\n",
            "Fizz\n",
            "34\n",
            "Buzz\n",
            "Fizz\n",
            "37\n",
            "38\n",
            "Fizz\n",
            "Buzz\n",
            "41\n",
            "Fizz\n",
            "43\n",
            "44\n",
            "FizzBuzz\n",
            "46\n",
            "47\n",
            "Fizz\n",
            "49\n",
            "Buzz\n",
            "Fizz\n",
            "52\n",
            "53\n",
            "Fizz\n",
            "Buzz\n",
            "56\n",
            "Fizz\n",
            "58\n",
            "59\n",
            "FizzBuzz\n",
            "61\n",
            "62\n",
            "Fizz\n",
            "64\n",
            "Buzz\n",
            "Fizz\n",
            "67\n",
            "68\n",
            "Fizz\n",
            "Buzz\n",
            "71\n",
            "Fizz\n",
            "73\n",
            "74\n",
            "FizzBuzz\n",
            "76\n",
            "77\n",
            "Fizz\n",
            "79\n",
            "Buzz\n",
            "Fizz\n",
            "82\n",
            "83\n",
            "Fizz\n",
            "Buzz\n",
            "86\n",
            "Fizz\n",
            "88\n",
            "89\n",
            "FizzBuzz\n",
            "91\n",
            "92\n",
            "Fizz\n",
            "94\n",
            "Buzz\n",
            "Fizz\n",
            "97\n",
            "98\n",
            "Fizz\n",
            "Buzz\n"
          ]
        }
      ],
      "source": [
        "# prompt:\n",
        "\n",
        "# ### 6. For numbers 1 to 100, if a number is divisible by 3, then print Fizz.\n",
        "# ### If a number is divisible by 5, then print Buzz.\n",
        "# ### If a number is divisible by 3 and 5 both, then print FizzBuzz\n",
        "# ### If a number is neither divisible by 3 or 5, just print the number.\n",
        "#\n",
        "# Hint: use range(1,101) function  to generate numbers from 1 to 100\n",
        "\n",
        "for i in range(1,101):\n",
        "  if i % 3 == 0 and i % 5 == 0:\n",
        "    print(\"FizzBuzz\")\n",
        "  elif i % 3 == 0:\n",
        "    print(\"Fizz\")\n",
        "  elif i % 5 == 0:\n",
        "    print(\"Buzz\")\n",
        "  else:\n",
        "    print(i)\n"
      ]
    },
    {
      "cell_type": "markdown",
      "metadata": {
        "id": "g9Bp23z7tfE2"
      },
      "source": [
        "### 7.  Using the range function find the sum of all numbers from 1 to 100.\n",
        "    For the numbers in the range (1,100):1+2+3+4+5......+100 = 5050"
      ]
    },
    {
      "cell_type": "code",
      "execution_count": null,
      "metadata": {
        "colab": {
          "base_uri": "https://localhost:8080/"
        },
        "id": "KaOZHGjstfE3",
        "outputId": "39f3688f-536e-4a1e-98f6-af92359e7713"
      },
      "outputs": [
        {
          "output_type": "stream",
          "name": "stdout",
          "text": [
            "2\n",
            "3\n",
            "4\n",
            "5\n",
            "6\n",
            "7\n",
            "8\n",
            "9\n",
            "10\n",
            "11\n",
            "12\n",
            "13\n",
            "14\n",
            "15\n",
            "16\n",
            "17\n",
            "18\n",
            "19\n",
            "20\n",
            "21\n",
            "22\n",
            "23\n",
            "24\n",
            "25\n",
            "26\n",
            "27\n",
            "28\n",
            "29\n",
            "30\n",
            "31\n",
            "32\n",
            "33\n",
            "34\n",
            "35\n",
            "36\n",
            "37\n",
            "38\n",
            "39\n",
            "40\n",
            "41\n",
            "42\n",
            "43\n",
            "44\n",
            "45\n",
            "46\n",
            "47\n",
            "48\n",
            "49\n",
            "50\n",
            "51\n",
            "52\n",
            "53\n",
            "54\n",
            "55\n",
            "56\n",
            "57\n",
            "58\n",
            "59\n",
            "60\n",
            "61\n",
            "62\n",
            "63\n",
            "64\n",
            "65\n",
            "66\n",
            "67\n",
            "68\n",
            "69\n",
            "70\n",
            "71\n",
            "72\n",
            "73\n",
            "74\n",
            "75\n",
            "76\n",
            "77\n",
            "78\n",
            "79\n",
            "80\n",
            "81\n",
            "82\n",
            "83\n",
            "84\n",
            "85\n",
            "86\n",
            "87\n",
            "88\n",
            "89\n",
            "90\n",
            "91\n",
            "92\n",
            "93\n",
            "94\n",
            "95\n",
            "96\n",
            "97\n",
            "98\n",
            "99\n",
            "100\n",
            "101\n"
          ]
        }
      ],
      "source": [
        "# prompt:\n",
        "\n",
        "# ### 7.  Using the range function find the sum of all numbers from 1 to 100.\n",
        "#     For the numbers in the range (1,100):1+2+3+4+5......+100 = 5050\n",
        "sum = 0\n",
        "for i in range(1,101):\n",
        "  sum += i\n",
        "\n",
        "print(sum)\n"
      ]
    },
    {
      "cell_type": "markdown",
      "metadata": {
        "id": "n_BKl1L3tfE3"
      },
      "source": [
        "### 8. Write a program which will find all such numbers which are divisible by 7 but are not a multiple of 5, between 202 and 320 (both included)."
      ]
    },
    {
      "cell_type": "code",
      "execution_count": null,
      "metadata": {
        "colab": {
          "base_uri": "https://localhost:8080/"
        },
        "id": "SJSSC_FftfE4",
        "outputId": "9d37bf52-cc12-4ada-bd6e-036d8b677b8c"
      },
      "outputs": [
        {
          "output_type": "stream",
          "name": "stdout",
          "text": [
            "203\n",
            "217\n",
            "224\n",
            "231\n",
            "238\n",
            "252\n",
            "259\n",
            "266\n",
            "273\n",
            "287\n",
            "294\n",
            "301\n",
            "308\n"
          ]
        }
      ],
      "source": [
        "for i in range(202, 321):\n",
        "  if i % 7 == 0 and i%5 != 0:\n",
        "    print(i)"
      ]
    },
    {
      "cell_type": "markdown",
      "metadata": {
        "id": "HCnS9GsetfE4"
      },
      "source": [
        "### 9. Python Program to count the number of vowels in a string.\n",
        "st = \"Data Science\"\n",
        "\n",
        "Output: No of vowels = 5"
      ]
    },
    {
      "cell_type": "code",
      "execution_count": null,
      "metadata": {
        "colab": {
          "base_uri": "https://localhost:8080/"
        },
        "id": "xtIwW5cftfE4",
        "outputId": "6b207a39-6eb7-446c-c07d-cc1bac69dec2"
      },
      "outputs": [
        {
          "output_type": "stream",
          "name": "stdout",
          "text": [
            "5\n"
          ]
        }
      ],
      "source": [
        "st = \"Data Science\"\n",
        "re = 0\n",
        "for i in st:\n",
        "  if i in ('a','e', 'i', 'o', 'u'):\n",
        "    re +=1\n",
        "print(re)\n"
      ]
    },
    {
      "cell_type": "markdown",
      "metadata": {
        "id": "t7Paw622tfE5"
      },
      "source": [
        "### 10. Print Data Science 5 times using for loop"
      ]
    },
    {
      "cell_type": "code",
      "execution_count": null,
      "metadata": {
        "colab": {
          "base_uri": "https://localhost:8080/"
        },
        "id": "YHXRMj4vtfE5",
        "outputId": "f212e95f-ecaf-4dbe-8ce2-605a6490f828"
      },
      "outputs": [
        {
          "output_type": "stream",
          "name": "stdout",
          "text": [
            "Data Science\n",
            "Data Science\n",
            "Data Science\n",
            "Data Science\n",
            "Data Science\n"
          ]
        }
      ],
      "source": [
        "st = \"Data Science\"\n",
        "for i in range(0,5):\n",
        "  print(st)"
      ]
    }
  ],
  "metadata": {
    "kernelspec": {
      "display_name": "Python 3 (ipykernel)",
      "language": "python",
      "name": "python3"
    },
    "language_info": {
      "codemirror_mode": {
        "name": "ipython",
        "version": 3
      },
      "file_extension": ".py",
      "mimetype": "text/x-python",
      "name": "python",
      "nbconvert_exporter": "python",
      "pygments_lexer": "ipython3",
      "version": "3.9.7"
    },
    "colab": {
      "provenance": [],
      "include_colab_link": true
    }
  },
  "nbformat": 4,
  "nbformat_minor": 0
}